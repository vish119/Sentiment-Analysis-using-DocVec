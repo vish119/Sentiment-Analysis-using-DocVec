{
 "cells": [
  {
   "cell_type": "code",
   "execution_count": 1,
   "metadata": {
    "collapsed": true
   },
   "outputs": [],
   "source": [
    "# gensim modules\n",
    "from gensim import utils\n",
    "from gensim.models.doc2vec import LabeledSentence\n",
    "from gensim.models import Doc2Vec\n",
    "\n",
    "# numpy\n",
    "import numpy\n",
    "\n",
    "# classifier\n",
    "from sklearn.linear_model import LogisticRegression"
   ]
  },
  {
   "cell_type": "code",
   "execution_count": 2,
   "metadata": {
    "collapsed": false
   },
   "outputs": [],
   "source": [
    "import csv\n",
    "import string\n",
    "import re\n",
    "count = 0\n",
    "neg_count = 0\n",
    "pos_count = 0\n",
    "train_neg = open(\"train_neg.txt\",\"w\")\n",
    "test_neg = open(\"test_neg.txt\",\"w\")\n",
    "train_pos = open(\"train_pos.txt\",\"w\")\n",
    "test_pos = open(\"test_pos.txt\",\"w\")\n",
    "dict = {}\n",
    "with open('final.csv', 'rb') as csvfile:\n",
    "    spamreader = csv.reader(csvfile)\n",
    "    for row in spamreader:\n",
    "        row[2] = row[2].translate(None, string.punctuation)\n",
    "        row[2] = re.sub(r'[^\\x00-\\x7F]+',' ', row[2])\n",
    "        row[2] = ' '.join(row[2].split())\n",
    "        row[2] = row[2].lower()\n",
    "        row[2] = row[2].encode('utf-8').strip()\n",
    "        \n",
    "        if row[0] == '0':\n",
    "            neg_count += 1\n",
    "            if neg_count > 388:\n",
    "                test_neg.write(row[2]+\"\\n\")\n",
    "            else:\n",
    "                train_neg.write(row[2]+\"\\n\")\n",
    "        else:\n",
    "            pos_count += 1\n",
    "            if pos_count > 422:\n",
    "                test_pos.write(row[2]+\"\\n\")\n",
    "            else:\n",
    "                train_pos.write(row[2]+\"\\n\")\n",
    "train_pos.close()\n",
    "train_neg.close()\n",
    "test_pos.close()\n",
    "test_neg.close()"
   ]
  },
  {
   "cell_type": "code",
   "execution_count": 3,
   "metadata": {
    "collapsed": true
   },
   "outputs": [],
   "source": [
    "docLabels = []\n",
    "data = []\n",
    "files = ['train_neg','test_neg','train_pos','test_pos']\n",
    "count = 0\n",
    "for file_name in files:\n",
    "    f = open(file_name + '.txt',\"r\")\n",
    "    count = 0\n",
    "    for line in f.readlines():\n",
    "        count += 1\n",
    "        data.append(line.strip())\n",
    "        docLabels.append(file_name + \"-\" + str(count))"
   ]
  },
  {
   "cell_type": "code",
   "execution_count": 4,
   "metadata": {
    "collapsed": true
   },
   "outputs": [],
   "source": [
    "class LabeledLineSentence(object):\n",
    "    def __init__(self, doc_list, labels_list):\n",
    "       self.labels_list = labels_list\n",
    "       self.doc_list = doc_list\n",
    "    def __iter__(self):\n",
    "        for idx, doc in enumerate(self.doc_list):\n",
    "            yield LabeledSentence(words=doc.split(),tags=[self.labels_list[idx]])"
   ]
  },
  {
   "cell_type": "code",
   "execution_count": 5,
   "metadata": {
    "collapsed": false
   },
   "outputs": [],
   "source": [
    "import gensim\n",
    "LabeledSentence = gensim.models.doc2vec.LabeledSentence\n",
    "it = LabeledLineSentence(data, docLabels)\n",
    "model = gensim.models.Doc2Vec(size=40, window=10, min_count=1, workers=11,dbow_words=1)\n",
    "model.build_vocab(it)\n",
    "for epoch in range(30):\n",
    "    model.train(it)\n"
   ]
  },
  {
   "cell_type": "code",
   "execution_count": 6,
   "metadata": {
    "collapsed": false
   },
   "outputs": [
    {
     "data": {
      "text/plain": [
       "[('gift', 0.7016488313674927),\n",
       " ('great', 0.6667410135269165),\n",
       " ('big', 0.6611874103546143),\n",
       " ('docking', 0.6563894748687744),\n",
       " ('sexy', 0.6302608251571655),\n",
       " ('typical', 0.6160938739776611),\n",
       " ('contender', 0.6150690317153931),\n",
       " ('known', 0.6143141984939575),\n",
       " ('broadcaster', 0.6078404784202576),\n",
       " ('billed', 0.5966828465461731)]"
      ]
     },
     "execution_count": 6,
     "metadata": {},
     "output_type": "execute_result"
    }
   ],
   "source": [
    "model.most_similar('good')"
   ]
  },
  {
   "cell_type": "code",
   "execution_count": 7,
   "metadata": {
    "collapsed": true
   },
   "outputs": [],
   "source": [
    "model.save('./model.d2v')\n",
    "model = Doc2Vec.load('./model.d2v')"
   ]
  },
  {
   "cell_type": "code",
   "execution_count": 8,
   "metadata": {
    "collapsed": false
   },
   "outputs": [],
   "source": [
    "train_arrays = numpy.zeros((810, 40))\n",
    "train_labels = numpy.zeros(810)\n",
    "\n",
    "for i in xrange(388):\n",
    "    prefix = 'train_neg-' + str(i+1)\n",
    "    train_arrays[i] = model.docvecs[prefix]\n",
    "    train_labels[i] = 0\n",
    "\n",
    "for i in xrange(422):\n",
    "    prefix = 'train_pos-' + str(i+1)\n",
    "    train_arrays[388+i] = model.docvecs[prefix]\n",
    "    train_labels[388+i] = 1\n"
   ]
  },
  {
   "cell_type": "code",
   "execution_count": 9,
   "metadata": {
    "collapsed": false
   },
   "outputs": [],
   "source": [
    "import numpy\n",
    "test_arrays = numpy.zeros((204, 40))\n",
    "test_labels = numpy.zeros(204)\n",
    "\n",
    "for i in xrange(98):\n",
    "    prefix = 'test_neg-' + str(i+1)\n",
    "    test_arrays[i] = model.docvecs[prefix]\n",
    "    test_labels[i] = 0\n",
    "\n",
    "for i in xrange(106):\n",
    "    prefix = 'test_pos-' + str(i+1)\n",
    "    test_arrays[i+98] = model.docvecs[prefix]\n",
    "    test_labels[i+98] = 1"
   ]
  },
  {
   "cell_type": "markdown",
   "metadata": {},
   "source": [
    "## Logistic Regression"
   ]
  },
  {
   "cell_type": "code",
   "execution_count": 10,
   "metadata": {
    "collapsed": false
   },
   "outputs": [
    {
     "data": {
      "text/plain": [
       "0.78431372549019607"
      ]
     },
     "execution_count": 10,
     "metadata": {},
     "output_type": "execute_result"
    }
   ],
   "source": [
    "\n",
    "classifier = LogisticRegression()\n",
    "classifier.fit(train_arrays, train_labels)\n",
    "classifier.score(test_arrays, test_labels)\n"
   ]
  },
  {
   "cell_type": "markdown",
   "metadata": {},
   "source": [
    "## Support Vector Machine"
   ]
  },
  {
   "cell_type": "code",
   "execution_count": 11,
   "metadata": {
    "collapsed": false
   },
   "outputs": [
    {
     "data": {
      "text/plain": [
       "0.71568627450980393"
      ]
     },
     "execution_count": 11,
     "metadata": {},
     "output_type": "execute_result"
    }
   ],
   "source": [
    "from sklearn import svm\n",
    "classifier = svm.SVC(kernel='rbf')\n",
    "classifier.fit(train_arrays, train_labels)\n",
    "classifier.score(test_arrays, test_labels)"
   ]
  },
  {
   "cell_type": "markdown",
   "metadata": {},
   "source": [
    "## Random Forest Classifier"
   ]
  },
  {
   "cell_type": "code",
   "execution_count": 12,
   "metadata": {
    "collapsed": false
   },
   "outputs": [
    {
     "data": {
      "text/plain": [
       "0.84313725490196079"
      ]
     },
     "execution_count": 12,
     "metadata": {},
     "output_type": "execute_result"
    }
   ],
   "source": [
    "from sklearn.ensemble import RandomForestClassifier\n",
    "classifier = RandomForestClassifier(n_estimators=25)\n",
    "classifier.fit(train_arrays, train_labels)\n",
    "classifier.score(test_arrays, test_labels)"
   ]
  },
  {
   "cell_type": "code",
   "execution_count": null,
   "metadata": {
    "collapsed": true
   },
   "outputs": [],
   "source": []
  }
 ],
 "metadata": {
  "kernelspec": {
   "display_name": "Python 2",
   "language": "python",
   "name": "python2"
  },
  "language_info": {
   "codemirror_mode": {
    "name": "ipython",
    "version": 2
   },
   "file_extension": ".py",
   "mimetype": "text/x-python",
   "name": "python",
   "nbconvert_exporter": "python",
   "pygments_lexer": "ipython2",
   "version": "2.7.13"
  }
 },
 "nbformat": 4,
 "nbformat_minor": 0
}
